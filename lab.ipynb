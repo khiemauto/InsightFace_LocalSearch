{
 "metadata": {
  "language_info": {
   "codemirror_mode": {
    "name": "ipython",
    "version": 3
   },
   "file_extension": ".py",
   "mimetype": "text/x-python",
   "name": "python",
   "nbconvert_exporter": "python",
   "pygments_lexer": "ipython3",
   "version": "3.7.10"
  },
  "orig_nbformat": 2,
  "kernelspec": {
   "name": "python3710jvsc74a57bd07ebfbdbab45176b9e9684e0c1b51a3d4bc827405a78d648f6d82f7d4c5bd508b",
   "display_name": "Python 3.7.10 64-bit ('obj_tracking_v2': conda)"
  },
  "metadata": {
   "interpreter": {
    "hash": "7ebfbdbab45176b9e9684e0c1b51a3d4bc827405a78d648f6d82f7d4c5bd508b"
   }
  }
 },
 "nbformat": 4,
 "nbformat_minor": 2,
 "cells": [
  {
   "cell_type": "code",
   "execution_count": null,
   "metadata": {},
   "outputs": [],
   "source": [
    "import time\n",
    "from datetime import datetime\n",
    "import argparse\n",
    "import json\n",
    "import threading\n",
    "import queue\n",
    "\n",
    "import cv2\n",
    "import numpy as np\n",
    "import torch\n",
    "import redis\n",
    "import matplotlib.pyplot as plt\n",
    "\n",
    "from core import support, share_param\n",
    "from insight_face.modules.tracking.custom_tracking import TrackingMultiCam\n",
    "from insight_face.utils.database import FaceRecognitionSystem"
   ]
  },
  {
   "cell_type": "code",
   "execution_count": null,
   "metadata": {},
   "outputs": [],
   "source": [
    "share_param.sdk_config = support.get_config_yaml(\"configs/sdk_config.yaml\")\n",
    "share_param.dev_config = support.get_config_yaml(\"configs/dev_config.yaml\")\n",
    "share_param.facerec_system = FaceRecognitionSystem(share_param.dev_config[\"DATA\"][\"photo_path\"], share_param.sdk_config )"
   ]
  },
  {
   "source": [
    "### Check quality\n",
    "Blur and Straight"
   ],
   "cell_type": "markdown",
   "metadata": {}
  },
  {
   "cell_type": "code",
   "execution_count": null,
   "metadata": {},
   "outputs": [],
   "source": [
    "\n",
    "rgb = cv2.imread(\"datalab/images/20210507164119942215.jpg\")\n",
    "# rgb = cv2.imread(\"dataset/photos/141900019930/20210507141900022399.jpg\")\n",
    "rgb = cv2.cvtColor(rgb, cv2.COLOR_BGR2RGB)\n",
    "\n",
    "\n",
    "bboxes, landmarks = share_param.facerec_system.sdk.detect_faces(rgb)\n",
    "print(bboxes)\n",
    "print(landmarks)\n",
    "for bbox, landmark in zip(bboxes, landmarks):\n",
    "    faceCrop = rgb[int(bbox[1]):int(bbox[3]),\n",
    "                              int(bbox[0]):int(bbox[2])]\n",
    "    isNotBlur = support.check_not_blur(faceCrop)\n",
    "    isStraightFace = support.check_straight_face(rgb, landmark)\n",
    "    print(\"Not blur:\", isNotBlur)\n",
    "    print(\"Straight:\", isStraightFace)\n",
    "    cnts = landmark.reshape(5,2, order='F')\n",
    "    for point in cnts:\n",
    "        cv2.drawMarker(rgb, tuple(point), color=(0,255,0), markerType=cv2.MARKER_CROSS, markerSize=8, thickness=1)\n",
    "plt.imshow(rgb)"
   ]
  }
 ]
}